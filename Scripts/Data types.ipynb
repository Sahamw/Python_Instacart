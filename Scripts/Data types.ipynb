{
 "cells": [
  {
   "cell_type": "code",
   "execution_count": 1,
   "id": "f56798ed",
   "metadata": {},
   "outputs": [
    {
     "data": {
      "text/plain": [
       "100"
      ]
     },
     "execution_count": 1,
     "metadata": {},
     "output_type": "execute_result"
    }
   ],
   "source": [
    "20 * 5"
   ]
  },
  {
   "cell_type": "code",
   "execution_count": 2,
   "id": "613d3f18",
   "metadata": {},
   "outputs": [
    {
     "data": {
      "text/plain": [
       "100"
      ]
     },
     "execution_count": 2,
     "metadata": {},
     "output_type": "execute_result"
    }
   ],
   "source": [
    "50+50"
   ]
  },
  {
   "cell_type": "code",
   "execution_count": 3,
   "id": "78993170",
   "metadata": {},
   "outputs": [
    {
     "data": {
      "text/plain": [
       "100"
      ]
     },
     "execution_count": 3,
     "metadata": {},
     "output_type": "execute_result"
    }
   ],
   "source": [
    "150-50"
   ]
  },
  {
   "cell_type": "code",
   "execution_count": 4,
   "id": "0eea1559",
   "metadata": {},
   "outputs": [],
   "source": [
    "X = 75.578 "
   ]
  },
  {
   "cell_type": "code",
   "execution_count": 5,
   "id": "c2d288be",
   "metadata": {},
   "outputs": [],
   "source": [
    "Y = 8.55"
   ]
  },
  {
   "cell_type": "code",
   "execution_count": 6,
   "id": "7bc730f4",
   "metadata": {},
   "outputs": [
    {
     "data": {
      "text/plain": [
       "8.839532163742689"
      ]
     },
     "execution_count": 6,
     "metadata": {},
     "output_type": "execute_result"
    }
   ],
   "source": [
    "X/Y"
   ]
  },
  {
   "cell_type": "code",
   "execution_count": 10,
   "id": "3416317e",
   "metadata": {},
   "outputs": [],
   "source": [
    "A = ('Good')\n",
    "B = (' Day')"
   ]
  },
  {
   "cell_type": "code",
   "execution_count": 9,
   "id": "cc5b9529",
   "metadata": {},
   "outputs": [
    {
     "data": {
      "text/plain": [
       "'GoodDay'"
      ]
     },
     "execution_count": 9,
     "metadata": {},
     "output_type": "execute_result"
    }
   ],
   "source": [
    "A + B"
   ]
  },
  {
   "cell_type": "code",
   "execution_count": 11,
   "id": "20925227",
   "metadata": {},
   "outputs": [],
   "source": [
    "C = ('Life')\n",
    "D = (' IS')\n",
    "E =(' Beutiful')"
   ]
  },
  {
   "cell_type": "code",
   "execution_count": 12,
   "id": "904eaf29",
   "metadata": {},
   "outputs": [
    {
     "data": {
      "text/plain": [
       "'Life IS Beutiful'"
      ]
     },
     "execution_count": 12,
     "metadata": {},
     "output_type": "execute_result"
    }
   ],
   "source": [
    "C+D+E"
   ]
  },
  {
   "cell_type": "code",
   "execution_count": null,
   "id": "8588cfd2",
   "metadata": {},
   "outputs": [],
   "source": []
  }
 ],
 "metadata": {
  "kernelspec": {
   "display_name": "Python 3 (ipykernel)",
   "language": "python",
   "name": "python3"
  },
  "language_info": {
   "codemirror_mode": {
    "name": "ipython",
    "version": 3
   },
   "file_extension": ".py",
   "mimetype": "text/x-python",
   "name": "python",
   "nbconvert_exporter": "python",
   "pygments_lexer": "ipython3",
   "version": "3.11.5"
  }
 },
 "nbformat": 4,
 "nbformat_minor": 5
}
